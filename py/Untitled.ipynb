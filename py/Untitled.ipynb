{
 "cells": [
  {
   "cell_type": "code",
   "execution_count": 1,
   "metadata": {},
   "outputs": [
    {
     "name": "stdout",
     "output_type": "stream",
     "text": [
      "<p class=\"style1\" style=\"margin: 0px; padding: 0px; color: #000000; font-size: 28px; font-family: Helvetica, Arial, sans-serif;\">Winners of the week\n",
      "<br></p>\n",
      "<p>Python spiegato alla Harry Potter <a href=\"https://github.com/zotroneneis/harry_potter_universe\n",
      "\" rel=\"nofollow\">https://github.com/zotroneneis/harry_potte...</a></p><p><br></p>\n",
      "<p>100 Days of code (Studia!) <a href=\"https://github.com/Avik-Jain/100-Days-Of-ML-Code\n",
      "\" rel=\"nofollow\">https://github.com/Avik-Jain/100-Days-Of-M...</a></p><p><br></p>\n",
      "<p>Boutade <a href=\"https://github.com/hwayne/awesome-cold-showers/blob/master/README.md\n",
      "\" rel=\"nofollow\">https://github.com/hwayne/awesome-cold-sho...</a></p><p><br></p>\n",
      "<p>Trollololo lo lololo <a href=\"https://github.com/1tayH/noisy\n",
      "\" rel=\"nofollow\">https://github.com/1tayH/noisy\n",
      "...</a></p><p><br></p>\n",
      "<p>Trollololo lo lololo(2) <a href=\"https://movingfulcrum.com/horrors-of-using-azure-kubernetes-service-in-production/\n",
      "\" rel=\"nofollow\">https://movingfulcrum.com/horrors-of-using...</a></p><p><br></p>\n",
      "<p>Generare numeri casuali a partire dalle banane <a href=\"https://medium.com/@valerionew/generare-numeri-casuali-a-partire-dalle-banane-af8adea2e2a8\n",
      "\" rel=\"nofollow\">https://medium.com/@valerionew/generare-nu...</a></p><p><br></p>\n",
      "<p>Smart_open - streaming di grandi file in Python <a href=\"https://github.com/RaRe-Technologies/smart_open\n",
      "\" rel=\"nofollow\">https://github.com/RaRe-Technologies/smart...</a></p><p><br></p>\n",
      "<p class=\"style1\" style=\"margin: 0px; padding: 0px; color: #000000; font-size: 28px; font-family: Helvetica, Arial, sans-serif;\">Machine Learning\n",
      "<br></p>\n",
      "<p>CHip ottico per reti neurali <a href=\"https://www.osa.org/en-us/about_osa/newsroom/news_releases/2018/researchers_move_closer_to_completely_optical_arti/\n",
      "\" rel=\"nofollow\">https://www.osa.org/en-us/about_osa/newsro...</a></p><p><br></p>\n",
      "<p>Remote machine learning jobs <a href=\"https://remoteml.com/\n",
      "\" rel=\"nofollow\">https://remoteml.com/\n",
      "...</a></p><p><br></p>\n",
      "<p>Jupyter&Pycharm - se puede <a href=\"https://blog.godatadriven.com/write-less-terrible-notebook-code\n",
      "\" rel=\"nofollow\">https://blog.godatadriven.com/write-less-t...</a></p><p><br></p>\n",
      "<p>Fortnite pipeline <a href=\"https://www.datanami.com/2018/07/31/inside-fortnites-massive-data-analytics-pipeline/\n",
      "\" rel=\"nofollow\">https://www.datanami.com/2018/07/31/inside...</a></p><p><br></p>\n",
      "<p>Meltano by GitLab - Un framework collaborativo per Data Scientist <a href=\"https://gitlab.com/meltano/meltano\n",
      "\" rel=\"nofollow\">https://gitlab.com/meltano/meltano\n",
      "...</a></p><p><br></p>\n",
      "<p class=\"style1\" style=\"margin: 0px; padding: 0px; color: #000000; font-size: 28px; font-family: Helvetica, Arial, sans-serif;\">Data Engineering/Architecture\n",
      "<br></p>\n",
      "<p>Kubernetic client <a href=\"https://kubernetic.com/\n",
      "\" rel=\"nofollow\">https://kubernetic.com/\n",
      "...</a></p><p><br></p>\n",
      "<p>Pokemon Go su GCP <a href=\"https://lp.google-mkto.com/rs/248-TPC-286/images/GC-PokemonGo-IT.pdf?utm_campaign=2016-gc-cnc-nurture-email-other-r3-vpappdev-appdev&utm_source=nurture&utm_medium=emailappdev6-6a&gcpngmt=appdev&cntctg=rsrch&mkt_tok=eyJpIjoiT0RnNU9EWXpNamRtTURneiIsInQiOiJDY1RPMHljQ3RYdU53bjdQc3VuR3FQa3FCQ2dQMTJkZVpTQ1UxbHlJaXJzSEZtYjI4ajNtbGw3WmhMajVndUZxMmphTTBGVjh4WXJRb3BEbmg5ckpDajE0VG0zMmNmdlcyOUEyNTNFWUxRNlBHWFdwU3hGV0JKNDRLeU5RMjZPUCJ9\n",
      "\" rel=\"nofollow\">https://lp.google-mkto.com/rs/248-TPC-286/...</a></p><p><br></p>\n",
      "<p>Quindi adesso siamo in Ravioli Architecture? <a href=\"https://blog.linnovate.net/big-things-to-small-things-dd3d8c04ab1d\n",
      "\" rel=\"nofollow\">https://blog.linnovate.net/big-things-to-s...</a></p><p><br></p>\n",
      "<p>Un po' di Beam per Kafka <a href=\"https://cloud.google.com/blog/products/data-analytics/review-of-input-streaming-connectors-for-apache-beam-and-apache-spark\n",
      "\" rel=\"nofollow\">https://cloud.google.com/blog/products/dat...</a></p><p><br></p>\n",
      "<p>Faust - Stream processing per Python <a href=\"https://robinhood.engineering/faust-stream-processing-for-python-a66d3a51212d\n",
      "\" rel=\"nofollow\">https://robinhood.engineering/faust-stream...</a></p><p><br></p>\n",
      "<p>Hacking Kubernetes <a href=\"https://poc-hack.blogspot.com/2018/04/hacking-kubernetes-part-1.html\n",
      "\" rel=\"nofollow\">https://poc-hack.blogspot.com/2018/04/hack...</a></p><p><br></p>\n",
      "<p>Confluent Ansible playbook, sniff <a href=\"https://www.confluent.io/blog/ansible-playbooks-for-confluent-platform/\n",
      "\" rel=\"nofollow\">https://www.confluent.io/blog/ansible-play...</a></p><p><br></p>\n",
      "<p class=\"style1\" style=\"margin: 0px; padding: 0px; color: #000000; font-size: 28px; font-family: Helvetica, Arial, sans-serif;\">Mixed Tech\n",
      "<br></p>\n",
      "<p>TF su Raspberry - Ufficiale <a href=\"https://medium.com/tensorflow/tensorflow-1-9-officially-supports-the-raspberry-pi-b91669b0aa0?linkId=55070050\n",
      "\" rel=\"nofollow\">https://medium.com/tensorflow/tensorflow-1...</a></p><p><br></p>\n",
      "<p>Robottino Opensource - Nasa JPL <a href=\"https://github.com/nasa-jpl/open-source-rover\n",
      "\" rel=\"nofollow\">https://github.com/nasa-jpl/open-source-ro...</a></p><p><br></p>\n",
      "<p>Robottino Opensource2 <a href=\"https://turtlerover.com/\n",
      "\" rel=\"nofollow\">https://turtlerover.com/\n",
      "...</a></p><p><br></p>\n",
      "<p>Whack-a-pod <a href=\"https://medium.com/google-cloud/whack-a-pod-359cbfb61662\n",
      "\" rel=\"nofollow\">https://medium.com/google-cloud/whack-a-po...</a></p><p><br></p>\n",
      "<p>Deep Space Network <a href=\"https://eyes.nasa.gov/dsn/\n",
      "\" rel=\"nofollow\">https://eyes.nasa.gov/dsn/\n",
      "...</a></p><p><br></p>\n",
      "<p class=\"style1\" style=\"margin: 0px; padding: 0px; color: #000000; font-size: 28px; font-family: Helvetica, Arial, sans-serif;\">No-tech\n",
      "<br></p>\n",
      "<p>Unicredit ha paura eh? <a href=\"http://www.repubblica.it/economia/finanza/2018/08/07/news/unicredit_-203596429/\n",
      "\" rel=\"nofollow\">http://www.repubblica.it/economia/finanza/...</a></p><p><br></p>\n",
      "<p>AI al cinema <a href=\"http://lab.datadesign.studio/ai_stories_in_movies/\n",
      "\" rel=\"nofollow\">http://lab.datadesign.studio/ai_stories_in...</a></p><p><br></p>\n",
      "<p>La Terra di Mezzo...in Minecraft <a href=\"https://ardacraft.me/\" rel=\"nofollow\">https://ardacraft.me/...</a></p><p><br></p>\n"
     ]
    }
   ],
   "source": [
    "with open(\"20180810.txt\", \"r\") as f:\n",
    "    data = f.readlines()\n",
    " \n",
    "    for line in data:\n",
    "        if line[0] == \"#\":\n",
    "            print (\"<p class=\\\"style1\\\" style=\\\"margin: 0px; padding: 0px; color: #000000; font-size: 28px; font-family: Helvetica, Arial, sans-serif;\\\">\"+line[1:]+\"<br></p>\")\n",
    "        else:\n",
    "            words = line.split('|')\n",
    "            print (\"<p>\"+words[0]+\" <a href=\\\"\"+words[1]+\"\\\" rel=\\\"nofollow\\\">\"+words[1][:42]+\"...</a></p><p><br></p>\")"
   ]
  },
  {
   "cell_type": "code",
   "execution_count": null,
   "metadata": {
    "collapsed": true
   },
   "outputs": [],
   "source": []
  }
 ],
 "metadata": {
  "kernelspec": {
   "display_name": "Python 3",
   "language": "python",
   "name": "python3"
  },
  "language_info": {
   "codemirror_mode": {
    "name": "ipython",
    "version": 3
   },
   "file_extension": ".py",
   "mimetype": "text/x-python",
   "name": "python",
   "nbconvert_exporter": "python",
   "pygments_lexer": "ipython3",
   "version": "3.6.5"
  }
 },
 "nbformat": 4,
 "nbformat_minor": 2
}
